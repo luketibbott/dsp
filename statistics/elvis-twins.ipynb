{
 "cells": [
  {
   "cell_type": "markdown",
   "metadata": {},
   "source": [
    "**Bayesian Evil Twins**\n",
    "\n",
    "We have three random variables that we'll use to solve this problem:\n",
    "\n",
    "* $F$ fraternal twins\n",
    "* $I$ identical twins\n",
    "* $T_b$ twin boys\n",
    "\n",
    "We're given that $P(F) = \\frac{1}{125}$ and $P(I) = \\frac{1}{300}$. \n",
    "\n",
    "We need to find $P(T_b)$ before we continue.\n",
    "\n",
    "We can decompose $P(T_b)$ by invoking the law of total probability like so:\n",
    "\n",
    "$$P(T_b) = P(F) \\cdot P(T_b \\mid F) + P(I) \\cdot P(T_b \\mid I)$$\n",
    "\n",
    "We know $P(F) = \\frac{1}{125}$ and $P(I) = \\frac{1}{300}$\n",
    "\n",
    "$P(T_b \\mid F) = 1/4$ because there is a $1/4$ probability that any set of *fraternal* twins is composed of two boys.\n",
    "\n",
    "$P(T_b \\mid I) = 1/2$ because *identical* twins must be the same sex, meaning there is a $1/2$ chance of any set of *identical* twins being composed of two boys.\n",
    "\n",
    "Thus we have \n",
    "\n",
    "$$P(T_b) = \\frac{1}{125} * \\frac{1}{4} + \\frac{1}{300}*\\frac{1}{2} = .003667$$\n",
    "\n",
    "Plug everything in to the following equation:\n",
    "\n",
    "$$P(I \\mid T_b) = \\frac{P(T_b\\mid I) \\cdot P(I)}{P(T_b)}$$\n",
    "\n",
    "to get \n",
    "\n",
    "$$\\frac{\\frac{1}{2} * \\frac{1}{300}}{.003667} = .454504 = 5/11$$\n",
    "\n",
    "Thus, there is a $5/11$ probability that Elvis Presley was an identical twin."
   ]
  }
 ],
 "metadata": {
  "kernelspec": {
   "display_name": "Python 3",
   "language": "python",
   "name": "python3"
  },
  "language_info": {
   "codemirror_mode": {
    "name": "ipython",
    "version": 3
   },
   "file_extension": ".py",
   "mimetype": "text/x-python",
   "name": "python",
   "nbconvert_exporter": "python",
   "pygments_lexer": "ipython3",
   "version": "3.6.5"
  }
 },
 "nbformat": 4,
 "nbformat_minor": 2
}
